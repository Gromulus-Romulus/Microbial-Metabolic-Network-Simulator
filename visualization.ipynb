{
 "cells": [
  {
   "cell_type": "code",
   "execution_count": 45,
   "source": [
    "import pandas as pd\n",
    "import numpy as np\n",
    "import matplotlib.pyplot as plt\n",
    "from matplotlib.backends.backend_pdf import PdfPages\n",
    "\n",
    "import os\n",
    "\n",
    "main_dir = 'data'"
   ],
   "outputs": [],
   "metadata": {}
  },
  {
   "cell_type": "code",
   "execution_count": 48,
   "source": [
    "folders = os.listdir(main_dir)\n",
    "\n",
    "spread_data = []\n",
    "complexity_data = []\n",
    "\n",
    "for folder in folders:\n",
    "\n",
    "    # Read dead-end states\n",
    "    try:\n",
    "        dead_ends = pd.read_csv(f'{main_dir}/{folder}/dead_ends.tsv', delimiter='\\t')\n",
    "    except: # EMPTY DATA\n",
    "        continue\n",
    "    \n",
    "    non_const_metabolites = list(dead_ends.columns.copy())\n",
    "    if 'H2O' in non_const_metabolites:\n",
    "        non_const_metabolites.remove('H2O')\n",
    "    elif 'H+' in non_const_metabolites:\n",
    "        non_const_metabolites.remove('H+')\n",
    "    \n",
    "    M = len(non_const_metabolites)\n",
    "\n",
    "    spread = 0\n",
    "    for m in non_const_metabolites:\n",
    "        spread += np.var(dead_ends[m])\n",
    "    \n",
    "    spread = np.sqrt((1.0/M) * spread)\n",
    "    spread_data.append(spread)\n",
    "\n",
    "    # Read stoich mat - evaluate complexity\n",
    "    stoich_mat_full = np.loadtxt(f'{main_dir}/{folder}/stoich_mat_full.txt')\n",
    "\n",
    "    NR, NC = stoich_mat_full.shape\n",
    "    complexity = max(NR, NC) - np.linalg.matrix_rank(stoich_mat_full)\n",
    "    complexity_data.append(complexity)\n",
    "\n",
    "print(complexity_data)\n",
    "print(spread_data)"
   ],
   "outputs": [
    {
     "output_type": "stream",
     "name": "stdout",
     "text": [
      "[7, 9, 6, 6, 8, 7, 8, 9, 7, 7, 7, 6, 7, 8, 7, 6, 8, 8, 8, 8, 5, 7, 7, 7, 8, 7, 5, 8, 7, 6, 5, 9, 6, 7, 5, 7, 6, 8, 6, 6, 9, 6]\n",
      "[0.7260600901516953, 1.0711336127723399, 0.7134660949639109, 1.3959909865295637, 1.8073631162632173, 0.9954898524827936, 0.09241353942923529, 5.457751640860094e-11, 5.961520879740088e-12, 0.4837603980204156, 1.595507467216808, 0.5303184658062063, 1.2792965033578512, 0.570385264301611, 0.33981118525434134, 1.529865195594364e-11, 0.13065547791970963, 0.009658109136779666, 1.2648630063681902e-09, 0.19005983106332625, 1.7694251544218431, 0.33307825857632695, 1.9774471931498857e-07, 2.2821583469130277e-12, 9.459335115118459e-08, 0.9297125760895525, 0.6497098156225016, 0.23461396843903104, 0.5869712039019627, 0.4507215118941831, 0.8500919367052102, 0.3828336750402057, 1.6069860433215397, 0.9117483919147495, 2.1033648744350355, 8.938325695926148e-12, 1.3363680352698943, 1.0096023215212436e-11, 2.177144776923108, 2.1855280509261912e-13, 8.403812965795788e-11, 1.0281810208293372]\n"
     ]
    }
   ],
   "metadata": {}
  },
  {
   "cell_type": "code",
   "execution_count": 49,
   "source": [
    "# Estimate failure rate from report.txt files\n",
    "main_folders = os.listdir(main_dir)\n",
    "\n",
    "total = 0\n",
    "fails = 0\n",
    "\n",
    "for main_folder in main_folders:\n",
    "    folders = os.listdir(f'{main_dir}/{main_folder}')\n",
    "    files = [f'{main_dir}/{main_folder}/{folder}/report.txt' for folder in folders if os.path.isdir(f'{main_dir}/{main_folder}/{folder}')]\n",
    "    for fname in files:\n",
    "        if not os.path.exists(fname):\n",
    "            continue\n",
    "\n",
    "        total += 1\n",
    "        with open(fname) as f:\n",
    "            content = f.read()\n",
    "            if content == \"success: False\":\n",
    "                fails += 1\n",
    "\n",
    "failure_rate = fails/total * 100\n",
    "\n",
    "print(f'Failure rate: {failure_rate:.2f}%')"
   ],
   "outputs": [
    {
     "output_type": "error",
     "ename": "ZeroDivisionError",
     "evalue": "division by zero",
     "traceback": [
      "\u001b[0;31m---------------------------------------------------------------------------\u001b[0m",
      "\u001b[0;31mZeroDivisionError\u001b[0m                         Traceback (most recent call last)",
      "\u001b[0;32m<ipython-input-49-96ed35798119>\u001b[0m in \u001b[0;36m<module>\u001b[0;34m\u001b[0m\n\u001b[1;32m     18\u001b[0m                 \u001b[0mfails\u001b[0m \u001b[0;34m+=\u001b[0m \u001b[0;36m1\u001b[0m\u001b[0;34m\u001b[0m\u001b[0;34m\u001b[0m\u001b[0m\n\u001b[1;32m     19\u001b[0m \u001b[0;34m\u001b[0m\u001b[0m\n\u001b[0;32m---> 20\u001b[0;31m \u001b[0mfailure_rate\u001b[0m \u001b[0;34m=\u001b[0m \u001b[0mfails\u001b[0m\u001b[0;34m/\u001b[0m\u001b[0mtotal\u001b[0m \u001b[0;34m*\u001b[0m \u001b[0;36m100\u001b[0m\u001b[0;34m\u001b[0m\u001b[0;34m\u001b[0m\u001b[0m\n\u001b[0m\u001b[1;32m     21\u001b[0m \u001b[0;34m\u001b[0m\u001b[0m\n\u001b[1;32m     22\u001b[0m \u001b[0mprint\u001b[0m\u001b[0;34m(\u001b[0m\u001b[0;34mf'Failure rate: {failure_rate:.2f}%'\u001b[0m\u001b[0;34m)\u001b[0m\u001b[0;34m\u001b[0m\u001b[0;34m\u001b[0m\u001b[0m\n",
      "\u001b[0;31mZeroDivisionError\u001b[0m: division by zero"
     ]
    }
   ],
   "metadata": {}
  },
  {
   "cell_type": "code",
   "execution_count": 42,
   "source": [
    "plt.scatter(complexity_data, spread_data, c='Red', marker='x')\n",
    "plt.xlabel('Matrix Complexity - max(NR, NC) - rank(S)')\n",
    "plt.ylabel('Spread of End States - norm(std(V))')\n",
    "plt.title(f'Number of Random Simulations: {total}')\n",
    "plt.show()"
   ],
   "outputs": [
    {
     "output_type": "display_data",
     "data": {
      "image/png": "[encoded data removed]",
      "text/plain": [
       "<Figure size 432x288 with 1 Axes>"
      ]
     },
     "metadata": {
      "needs_background": "light"
     }
    }
   ],
   "metadata": {}
  },
  {
   "cell_type": "code",
   "execution_count": null,
   "source": [],
   "outputs": [],
   "metadata": {}
  }
 ],
 "metadata": {
  "kernelspec": {
   "name": "python3",
   "display_name": "Python 3.7.6 64-bit"
  },
  "language_info": {
   "codemirror_mode": {
    "name": "ipython",
    "version": 3
   },
   "file_extension": ".py",
   "mimetype": "text/x-python",
   "name": "python",
   "nbconvert_exporter": "python",
   "pygments_lexer": "ipython3",
   "version": "3.7.6"
  },
  "metadata": {
   "interpreter": {
    "hash": "aee8b7b246df8f9039afb4144a1f6fd8d2ca17a180786b69acc140d282b71a49"
   }
  },
  "orig_nbformat": 3,
  "interpreter": {
   "hash": "aee8b7b246df8f9039afb4144a1f6fd8d2ca17a180786b69acc140d282b71a49"
  }
 },
 "nbformat": 4,
 "nbformat_minor": 2
}